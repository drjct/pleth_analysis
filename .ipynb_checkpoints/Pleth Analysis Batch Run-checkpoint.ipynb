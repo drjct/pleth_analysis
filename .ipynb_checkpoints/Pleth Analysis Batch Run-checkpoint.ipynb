{
 "cells": [
  {
   "cell_type": "markdown",
   "metadata": {},
   "source": [
    "Uses code blocks from Pleth Analysis Single Run notebook to batch run everything within a folder"
   ]
  },
  {
   "cell_type": "code",
   "execution_count": 1,
   "metadata": {},
   "outputs": [],
   "source": [
    "import pandas as pd\n",
    "import numpy as np\n",
    "import re\n",
    "import matplotlib.pyplot as plt\n",
    "from matplotlib import patches\n",
    "from scipy import signal, optimize\n",
    "import peakutils\n",
    "from peakutils.plot import plot as pplot\n",
    "from pyentrp import entropy as ent"
   ]
  },
  {
   "cell_type": "code",
   "execution_count": 15,
   "metadata": {},
   "outputs": [],
   "source": [
    "#This would be the line for bash access. but since we're using windows we have to do a long annoying workaround\n",
    "#    filelst = !ls C:\\Users\\John\\Dropbox\\Exported\\*.txt"
   ]
  },
  {
   "cell_type": "code",
   "execution_count": 47,
   "metadata": {},
   "outputs": [],
   "source": [
    "filelst_process = !dir C:\\Users\\John\\Dropbox\\Exported\\*.txt"
   ]
  },
  {
   "cell_type": "code",
   "execution_count": 48,
   "metadata": {},
   "outputs": [],
   "source": [
    "filelst = []\n",
    "\n",
    "for i in filelst_process.fields()[5:-2]: #start after header rows, and don't include the last two rows\n",
    "    filelst.append(i[-1]) #take only the last object, which is the file name"
   ]
  },
  {
   "cell_type": "code",
   "execution_count": 49,
   "metadata": {},
   "outputs": [
    {
     "data": {
      "text/plain": [
       "['10-17-17-2_st2_lps-2.txt',\n",
       " '10-17-17-2_st2_lps-baseline.txt',\n",
       " '10-17-17-2_st2_lps-hypoxia.txt',\n",
       " '10-17-17-2_st2_lps-recovery.txt',\n",
       " '10-17-17-2_st2_lps.txt',\n",
       " '10-17-17-2_st2_sham-baseline.txt',\n",
       " '10-17-17-2_st2_sham-hypoxia.txt',\n",
       " '10-17-17-2_st2_sham-recovery.txt',\n",
       " '10-18-17-2-ST2_LPS-baseline.txt',\n",
       " '10-18-17-2-ST2_LPS-hypoxia.txt',\n",
       " '10-18-17-2-ST2_LPS-recovery.txt',\n",
       " '10-18-17-2-ST2_SHAM-baseline.txt',\n",
       " '10-18-17-7_ST2_SHAM-baseline.txt',\n",
       " '10-18-17-7_ST2_SHAM-hypoxia.txt',\n",
       " '10-18-17-7_ST2_SHAM-recovery.txt',\n",
       " '10-18-17_6_st2_lps-baseline.txt',\n",
       " '10-18-17_6_st2_lps-hypoxia.txt',\n",
       " '10-18-17_6_st2_lps-recovery.txt',\n",
       " '10-19-17-10-_MYD88_LPS-baseline.txt',\n",
       " '10-19-17-10-_MYD88_LPS-hypoxia.txt',\n",
       " '10-19-17-10-_MYD88_LPS-recovery.txt',\n",
       " '10-19-17-11_MYD88_LPS-baseline.txt',\n",
       " '10-19-17-11_MYD88_LPS-hypoxia.txt',\n",
       " '10-19-17-11_MYD88_LPS-recovery.txt',\n",
       " '10-19-17-12_MYD88_LPS-baseline.txt',\n",
       " '10-19-17-12_MYD88_LPS-hypoxia.txt',\n",
       " '10-19-17-12_MYD88_LPS-recovery.txt',\n",
       " '10-19-17-9_MYD88_SHAM-baseline.txt',\n",
       " '10-19-17-9_MYD88_SHAM-hypoxia.txt',\n",
       " '10-19-17-9_MYD88_SHAM-recovery.txt',\n",
       " '10-23-17-16_MYD88_LPS-baseline.txt',\n",
       " '10-23-17-16_MYD88_LPS-hypoxia.txt',\n",
       " '10-23-17-16_MYD88_LPS-recovery.txt',\n",
       " '10-23-17-17_MYD88_LPS-baseline.txt',\n",
       " '10-23-17-17_MYD88_LPS-hypoxia.txt',\n",
       " '10-23-17-17_MYD88_LPS-recovery.txt',\n",
       " '10-23-17-18_MYD88_SHAM-baseline.txt',\n",
       " '10-23-17-18_MYD88_SHAM-hypoxia.txt',\n",
       " '10-23-17-18_MYD88_SHAM-recovery.txt',\n",
       " '10-23-17-19_MYD88_SHAM-baseline.txt',\n",
       " '10-23-17-19_MYD88_SHAM-hypoxia.txt',\n",
       " '10-23-17-19_MYD88_SHAM-recovery.txt',\n",
       " '10-23-17-20_MYD88_SHAM-baseline.txt',\n",
       " '10-23-17-20_MYD88_SHAM-hypoxia.txt',\n",
       " '10-23-17-20_MYD88_SHAM-recovery.txt',\n",
       " '10-23-17-21_MYD88_SHAM-baseline.txt',\n",
       " '10-23-17-21_MYD88_SHAM-hypoxia.txt',\n",
       " '10-23-17-21_MYD88_SHAM-recovery.txt']"
      ]
     },
     "execution_count": 49,
     "metadata": {},
     "output_type": "execute_result"
    }
   ],
   "source": [
    "filelst"
   ]
  },
  {
   "cell_type": "code",
   "execution_count": null,
   "metadata": {},
   "outputs": [],
   "source": []
  }
 ],
 "metadata": {
  "kernelspec": {
   "display_name": "Python 2",
   "language": "python",
   "name": "python2"
  },
  "language_info": {
   "codemirror_mode": {
    "name": "ipython",
    "version": 2
   },
   "file_extension": ".py",
   "mimetype": "text/x-python",
   "name": "python",
   "nbconvert_exporter": "python",
   "pygments_lexer": "ipython2",
   "version": "2.7.14"
  }
 },
 "nbformat": 4,
 "nbformat_minor": 2
}
